{
 "cells": [
  {
   "cell_type": "markdown",
   "id": "4b9d9e49",
   "metadata": {},
   "source": [
    "# Lecture contents\n",
    "\n",
    " 1. Conditional statement: if, if-else, if-elif-else <\\item>\n",
    " 2. Looping (for): \n",
    "     - Iterating over a  list : in, enumerate\n",
    "     -  Iterating over a range of number: range \n",
    "     -  If condition inside for\n",
    "     -  Nested for loop "
   ]
  },
  {
   "cell_type": "markdown",
   "id": "6551f72b",
   "metadata": {},
   "source": [
    "<a id ='section:conditional'> </a>\n",
    "## Conditional statement"
   ]
  },
  {
   "cell_type": "markdown",
   "id": "8d25dcf6",
   "metadata": {},
   "source": [
    "<a id='subsec:conditional:if'> </a>\n",
    "### if loop\n",
    "![](images/if-condition.drawio.png)"
   ]
  },
  {
   "cell_type": "code",
   "execution_count": 1,
   "id": "af339325",
   "metadata": {},
   "outputs": [
    {
     "name": "stdout",
     "output_type": "stream",
     "text": [
      "Greater than 40\n",
      "End of of Program\n"
     ]
    }
   ],
   "source": [
    "# if block with single statement - Condition evaluated to True \n",
    "x = 80 \n",
    "if x>40: \n",
    "    print('Greater than 40')\n",
    "print('End of of Program')"
   ]
  },
  {
   "cell_type": "code",
   "execution_count": 2,
   "id": "0df1baf4",
   "metadata": {},
   "outputs": [
    {
     "name": "stdout",
     "output_type": "stream",
     "text": [
      "End of of Program\n"
     ]
    }
   ],
   "source": [
    "# if block with single statement- Condition evaluated to False\n",
    "x = 30\n",
    "if x>40: \n",
    "    print('Greater than 40')\n",
    "print('End of of Program')"
   ]
  },
  {
   "cell_type": "markdown",
   "id": "e4a91984",
   "metadata": {},
   "source": [
    "![](images/if-condition-2.drawio.png)"
   ]
  },
  {
   "cell_type": "code",
   "execution_count": 3,
   "id": "250b3c30",
   "metadata": {},
   "outputs": [
    {
     "name": "stdout",
     "output_type": "stream",
     "text": [
      "Greater than 40\n",
      "Passed in the subject!\n",
      "End of of Program\n"
     ]
    }
   ],
   "source": [
    "# if block with multiple statements - Condition evaluated to True \n",
    "x = 80 \n",
    "if x>40: \n",
    "    print('Greater than 40')\n",
    "    print('Passed in the subject!')\n",
    "print('End of of Program')"
   ]
  },
  {
   "cell_type": "code",
   "execution_count": 4,
   "id": "11bbbb4f",
   "metadata": {},
   "outputs": [
    {
     "name": "stdout",
     "output_type": "stream",
     "text": [
      "End of of Program\n"
     ]
    }
   ],
   "source": [
    "# if block with multiple statements - Condition evaluated to False\n",
    "x = 30\n",
    "if x>40: \n",
    "    print('Greater than 40')\n",
    "    print('Passed in the subject!')\n",
    "print('End of of Program')"
   ]
  },
  {
   "cell_type": "markdown",
   "id": "80c13213",
   "metadata": {},
   "source": [
    "### if-else block\n",
    "![](images/if-else.drawio.png)"
   ]
  },
  {
   "cell_type": "code",
   "execution_count": 5,
   "id": "36c4bfb6",
   "metadata": {},
   "outputs": [
    {
     "name": "stdout",
     "output_type": "stream",
     "text": [
      "Greater than 40\n",
      "Passed in the subject!\n",
      "End of of Program\n"
     ]
    }
   ],
   "source": [
    "# if-else block with multiple statements - Condition evaluated to True \n",
    "x = 80 \n",
    "if x>40: \n",
    "    print('Greater than 40')\n",
    "    print('Passed in the subject!')\n",
    "else:\n",
    "    print('Re-appear the exam')\n",
    "print('End of of Program')"
   ]
  },
  {
   "cell_type": "markdown",
   "id": "668e2c5e",
   "metadata": {},
   "source": [
    "**Assignment for now**: Take an integer as input and check if it is even number or odd number."
   ]
  },
  {
   "cell_type": "code",
   "execution_count": 9,
   "id": "69cd9891",
   "metadata": {},
   "outputs": [
    {
     "name": "stdout",
     "output_type": "stream",
     "text": [
      "7 is odd!\n"
     ]
    }
   ],
   "source": [
    "x = int(input('Enter a number -> '))\n",
    "if x%2 == 0:\n",
    "    print('{} is even'.format(x))\n",
    "else:\n",
    "    print('{} is odd!'.format(x))"
   ]
  },
  {
   "cell_type": "code",
   "execution_count": 10,
   "id": "6dd84768",
   "metadata": {},
   "outputs": [
    {
     "name": "stdout",
     "output_type": "stream",
     "text": [
      "Re-appear the exam\n",
      "End of of Program\n"
     ]
    }
   ],
   "source": [
    "# if-else block with multiple statements - Condition evaluated to False \n",
    "x = 30 \n",
    "if x>40: \n",
    "    print('Greater than 40')\n",
    "    print('Passed in the subject!')\n",
    "else:\n",
    "    print('Re-appear the exam')\n",
    "print('End of of Program')"
   ]
  },
  {
   "cell_type": "markdown",
   "id": "234e5587",
   "metadata": {},
   "source": [
    "###  if-elif-else block"
   ]
  },
  {
   "cell_type": "code",
   "execution_count": 14,
   "id": "b834759e",
   "metadata": {},
   "outputs": [
    {
     "name": "stdout",
     "output_type": "stream",
     "text": [
      "x = 76, Admission in XYZ school\n",
      "End of of Program\n"
     ]
    }
   ],
   "source": [
    "x = int(input('Enter the marks: '))\n",
    "if x>80:\n",
    "    print('x = {}, Admission in DPS school'.format(x))\n",
    "elif x > 40 : \n",
    "    print('x = {}, Admission in XYZ school'.format(x))\n",
    "else:\n",
    "    print('x = {} , Re-appear the exam'.format(x))\n",
    "print('End of of Program')\n"
   ]
  },
  {
   "cell_type": "markdown",
   "id": "f406855c",
   "metadata": {},
   "source": [
    "### Assignment -  Condition (if)\n",
    "1. Take an integer number as input and check whether it is divisible by 10 or not.\n",
    "2. Take  a string as input denoting the name of person. Check whether the number of characters in name is less than 8 or not.\n",
    "3. Take a string as input. The string denotes the password. The string must follow following constraints:\n",
    "    - an alpbets [a-z] or [A-Z]\n",
    "    - a number [0-9]\n",
    "    - any special character [ ! @ # $ % ^ *]\n",
    "    If the the string cotains all three constraints, print valid password, other wise print which constraints are missing.!"
   ]
  },
  {
   "cell_type": "markdown",
   "id": "809d06d6",
   "metadata": {},
   "source": [
    "## Looping - for\n",
    "![](images/loop.drawio.png)"
   ]
  },
  {
   "cell_type": "markdown",
   "id": "491d4b9f",
   "metadata": {},
   "source": [
    "### basic for loop using `in` keyword"
   ]
  },
  {
   "cell_type": "code",
   "execution_count": 15,
   "id": "c2ef49b4",
   "metadata": {},
   "outputs": [
    {
     "name": "stdout",
     "output_type": "stream",
     "text": [
      "Apple\n",
      "Orange\n",
      "Mango\n"
     ]
    }
   ],
   "source": [
    "fruits_list = ['Apple', 'Orange', 'Mango']\n",
    "for fruit in fruits_list:\n",
    "\tprint(fruit)"
   ]
  },
  {
   "cell_type": "code",
   "execution_count": 16,
   "id": "2505a5b9",
   "metadata": {},
   "outputs": [
    {
     "name": "stdout",
     "output_type": "stream",
     "text": [
      "Apple\n",
      "Orange\n",
      "Mango\n"
     ]
    }
   ],
   "source": [
    "fruits_list = ['Apple', 'Orange', 'Mango']\n",
    "for item in fruits_list:\n",
    "\tprint(item)"
   ]
  },
  {
   "cell_type": "code",
   "execution_count": 28,
   "id": "e82e0248",
   "metadata": {},
   "outputs": [
    {
     "name": "stdout",
     "output_type": "stream",
     "text": [
      "Apple 5 ; DONE\n",
      "Orange 6 ; DONE\n",
      "Mango 5 ; DONE\n"
     ]
    }
   ],
   "source": [
    "fruits_list = ['Apple', 'Orange', 'Mango']\n",
    "for fruit in fruits_list:\n",
    "    print(fruit, len(fruit) , end=' ; ')\n",
    "    print('DONE')"
   ]
  },
  {
   "cell_type": "markdown",
   "id": "47e21a94",
   "metadata": {},
   "source": [
    "# for with `enumerate` keyword "
   ]
  },
  {
   "cell_type": "code",
   "execution_count": 29,
   "id": "55bf42a4",
   "metadata": {},
   "outputs": [
    {
     "name": "stdout",
     "output_type": "stream",
     "text": [
      "Help on class enumerate in module builtins:\n",
      "\n",
      "class enumerate(object)\n",
      " |  enumerate(iterable, start=0)\n",
      " |  \n",
      " |  Return an enumerate object.\n",
      " |  \n",
      " |    iterable\n",
      " |      an object supporting iteration\n",
      " |  \n",
      " |  The enumerate object yields pairs containing a count (from start, which\n",
      " |  defaults to zero) and a value yielded by the iterable argument.\n",
      " |  \n",
      " |  enumerate is useful for obtaining an indexed list:\n",
      " |      (0, seq[0]), (1, seq[1]), (2, seq[2]), ...\n",
      " |  \n",
      " |  Methods defined here:\n",
      " |  \n",
      " |  __getattribute__(self, name, /)\n",
      " |      Return getattr(self, name).\n",
      " |  \n",
      " |  __iter__(self, /)\n",
      " |      Implement iter(self).\n",
      " |  \n",
      " |  __next__(self, /)\n",
      " |      Implement next(self).\n",
      " |  \n",
      " |  __reduce__(...)\n",
      " |      Return state information for pickling.\n",
      " |  \n",
      " |  ----------------------------------------------------------------------\n",
      " |  Static methods defined here:\n",
      " |  \n",
      " |  __new__(*args, **kwargs) from builtins.type\n",
      " |      Create and return a new object.  See help(type) for accurate signature.\n",
      "\n"
     ]
    }
   ],
   "source": [
    "help(enumerate)"
   ]
  },
  {
   "cell_type": "code",
   "execution_count": 34,
   "id": "6063f57f",
   "metadata": {},
   "outputs": [
    {
     "name": "stdout",
     "output_type": "stream",
     "text": [
      "1 Apple\n",
      "2 Orange\n",
      "3 Mango\n"
     ]
    }
   ],
   "source": [
    "for i, fruit in enumerate(fruits_list, 1):\n",
    "    print(i, fruit)"
   ]
  },
  {
   "cell_type": "markdown",
   "id": "04e0c902",
   "metadata": {},
   "source": [
    "### for with `range` keyword\n",
    "-range return an `object` producing **sequence of integeres**\n",
    "- `range( start, end, step)`\n",
    "- `start` is **inclusive** while `end` is **exclusive**\n"
   ]
  },
  {
   "cell_type": "code",
   "execution_count": 35,
   "id": "30cdc1a9",
   "metadata": {},
   "outputs": [
    {
     "name": "stdout",
     "output_type": "stream",
     "text": [
      "4\n",
      "6\n",
      "8\n"
     ]
    }
   ],
   "source": [
    "for num in range(4, 10, 2):\n",
    "    print(num)"
   ]
  },
  {
   "cell_type": "markdown",
   "id": "2fd0b705",
   "metadata": {},
   "source": [
    "- end is the compulsorty arguemnt\n",
    "- start and end is optional\n",
    "- if start is not provided, it will by default start from 0\n",
    "- if step is not provided, it will by default 1. \n",
    "\n"
   ]
  },
  {
   "cell_type": "code",
   "execution_count": 35,
   "id": "de728d21",
   "metadata": {},
   "outputs": [
    {
     "name": "stdout",
     "output_type": "stream",
     "text": [
      "0\n",
      "1\n",
      "2\n",
      "3\n",
      "4\n",
      "5\n"
     ]
    }
   ],
   "source": [
    "for num in range(6):\n",
    "    print(num)"
   ]
  },
  {
   "cell_type": "code",
   "execution_count": 36,
   "id": "d5f370c5",
   "metadata": {},
   "outputs": [
    {
     "name": "stdout",
     "output_type": "stream",
     "text": [
      "2\n",
      "3\n",
      "4\n",
      "5\n"
     ]
    }
   ],
   "source": [
    "for num in range(2,6):\n",
    "    print(num)"
   ]
  },
  {
   "cell_type": "code",
   "execution_count": null,
   "id": "3af8a976",
   "metadata": {},
   "outputs": [],
   "source": [
    "# 4.0, 4.1, 4.2, 4.3 , ..., 9.0"
   ]
  },
  {
   "cell_type": "code",
   "execution_count": 31,
   "id": "7961d4a8",
   "metadata": {},
   "outputs": [
    {
     "name": "stdout",
     "output_type": "stream",
     "text": [
      "Help on class range in module builtins:\n",
      "\n",
      "class range(object)\n",
      " |  range(stop) -> range object\n",
      " |  range(start, stop[, step]) -> range object\n",
      " |  \n",
      " |  Return an object that produces a sequence of integers from start (inclusive)\n",
      " |  to stop (exclusive) by step.  range(i, j) produces i, i+1, i+2, ..., j-1.\n",
      " |  start defaults to 0, and stop is omitted!  range(4) produces 0, 1, 2, 3.\n",
      " |  These are exactly the valid indices for a list of 4 elements.\n",
      " |  When step is given, it specifies the increment (or decrement).\n",
      " |  \n",
      " |  Methods defined here:\n",
      " |  \n",
      " |  __bool__(self, /)\n",
      " |      self != 0\n",
      " |  \n",
      " |  __contains__(self, key, /)\n",
      " |      Return key in self.\n",
      " |  \n",
      " |  __eq__(self, value, /)\n",
      " |      Return self==value.\n",
      " |  \n",
      " |  __ge__(self, value, /)\n",
      " |      Return self>=value.\n",
      " |  \n",
      " |  __getattribute__(self, name, /)\n",
      " |      Return getattr(self, name).\n",
      " |  \n",
      " |  __getitem__(self, key, /)\n",
      " |      Return self[key].\n",
      " |  \n",
      " |  __gt__(self, value, /)\n",
      " |      Return self>value.\n",
      " |  \n",
      " |  __hash__(self, /)\n",
      " |      Return hash(self).\n",
      " |  \n",
      " |  __iter__(self, /)\n",
      " |      Implement iter(self).\n",
      " |  \n",
      " |  __le__(self, value, /)\n",
      " |      Return self<=value.\n",
      " |  \n",
      " |  __len__(self, /)\n",
      " |      Return len(self).\n",
      " |  \n",
      " |  __lt__(self, value, /)\n",
      " |      Return self<value.\n",
      " |  \n",
      " |  __ne__(self, value, /)\n",
      " |      Return self!=value.\n",
      " |  \n",
      " |  __reduce__(...)\n",
      " |      Helper for pickle.\n",
      " |  \n",
      " |  __repr__(self, /)\n",
      " |      Return repr(self).\n",
      " |  \n",
      " |  __reversed__(...)\n",
      " |      Return a reverse iterator.\n",
      " |  \n",
      " |  count(...)\n",
      " |      rangeobject.count(value) -> integer -- return number of occurrences of value\n",
      " |  \n",
      " |  index(...)\n",
      " |      rangeobject.index(value) -> integer -- return index of value.\n",
      " |      Raise ValueError if the value is not present.\n",
      " |  \n",
      " |  ----------------------------------------------------------------------\n",
      " |  Static methods defined here:\n",
      " |  \n",
      " |  __new__(*args, **kwargs) from builtins.type\n",
      " |      Create and return a new object.  See help(type) for accurate signature.\n",
      " |  \n",
      " |  ----------------------------------------------------------------------\n",
      " |  Data descriptors defined here:\n",
      " |  \n",
      " |  start\n",
      " |  \n",
      " |  step\n",
      " |  \n",
      " |  stop\n",
      "\n"
     ]
    }
   ],
   "source": [
    "help(range)"
   ]
  },
  {
   "cell_type": "markdown",
   "id": "1d57aa83",
   "metadata": {},
   "source": [
    "### Asignment for now\n",
    "- Print the number greater than 99 and less than 1000 which are divisible by 5."
   ]
  },
  {
   "cell_type": "code",
   "execution_count": 41,
   "id": "87737938",
   "metadata": {},
   "outputs": [
    {
     "name": "stdout",
     "output_type": "stream",
     "text": [
      "100, 105, 110, 115, 120, 125, 130, 135, 140, 145, 150, 155, 160, 165, 170, 175, 180, 185, 190, 195, 200, 205, 210, 215, 220, 225, 230, 235, 240, 245, 250, 255, 260, 265, 270, 275, 280, 285, 290, 295, 300, 305, 310, 315, 320, 325, 330, 335, 340, 345, 350, 355, 360, 365, 370, 375, 380, 385, 390, 395, 400, 405, 410, 415, 420, 425, 430, 435, 440, 445, 450, 455, 460, 465, 470, 475, 480, 485, 490, 495, 500, 505, 510, 515, 520, 525, 530, 535, 540, 545, 550, 555, 560, 565, 570, 575, 580, 585, 590, 595, 600, 605, 610, 615, 620, 625, 630, 635, 640, 645, 650, 655, 660, 665, 670, 675, 680, 685, 690, 695, 700, 705, 710, 715, 720, 725, 730, 735, 740, 745, 750, 755, 760, 765, 770, 775, 780, 785, 790, 795, 800, 805, 810, 815, 820, 825, 830, 835, 840, 845, 850, 855, 860, 865, 870, 875, 880, 885, 890, 895, 900, 905, 910, 915, 920, 925, 930, 935, 940, 945, 950, 955, 960, 965, 970, 975, 980, 985, 990, 995, "
     ]
    }
   ],
   "source": [
    "for num in range(100, 1000, 1):\n",
    "    if num % 5 == 0:\n",
    "        print(num, end= ', ')"
   ]
  },
  {
   "cell_type": "code",
   "execution_count": 42,
   "id": "1852ea60",
   "metadata": {},
   "outputs": [
    {
     "name": "stdout",
     "output_type": "stream",
     "text": [
      "100, 105, 110, 115, 120, 125, 130, 135, 140, 145, 150, 155, 160, 165, 170, 175, 180, 185, 190, 195, 200, 205, 210, 215, 220, 225, 230, 235, 240, 245, 250, 255, 260, 265, 270, 275, 280, 285, 290, 295, 300, 305, 310, 315, 320, 325, 330, 335, 340, 345, 350, 355, 360, 365, 370, 375, 380, 385, 390, 395, 400, 405, 410, 415, 420, 425, 430, 435, 440, 445, 450, 455, 460, 465, 470, 475, 480, 485, 490, 495, 500, 505, 510, 515, 520, 525, 530, 535, 540, 545, 550, 555, 560, 565, 570, 575, 580, 585, 590, 595, 600, 605, 610, 615, 620, 625, 630, 635, 640, 645, 650, 655, 660, 665, 670, 675, 680, 685, 690, 695, 700, 705, 710, 715, 720, 725, 730, 735, 740, 745, 750, 755, 760, 765, 770, 775, 780, 785, 790, 795, 800, 805, 810, 815, 820, 825, 830, 835, 840, 845, 850, 855, 860, 865, 870, 875, 880, 885, 890, 895, 900, 905, 910, 915, 920, 925, 930, 935, 940, 945, 950, 955, 960, 965, 970, 975, 980, 985, 990, 995, "
     ]
    }
   ],
   "source": [
    "for num in range(100, 1000, 5):\n",
    "        print(num, end= ', ')"
   ]
  },
  {
   "cell_type": "code",
   "execution_count": 37,
   "id": "b58d9754",
   "metadata": {},
   "outputs": [
    {
     "name": "stdout",
     "output_type": "stream",
     "text": [
      "1\n",
      "3\n",
      "5\n",
      "7\n",
      "9\n"
     ]
    }
   ],
   "source": [
    "m = 10\n",
    "n = 2\n",
    "for i in range (1,m,n):\n",
    "    print(i)"
   ]
  },
  {
   "cell_type": "code",
   "execution_count": 38,
   "id": "d96f5d9c",
   "metadata": {},
   "outputs": [
    {
     "name": "stdout",
     "output_type": "stream",
     "text": [
      "1\n",
      "2\n",
      "3\n",
      "4\n",
      "1\n",
      "2\n"
     ]
    }
   ],
   "source": [
    "int_list = [1,2,3,4,1,2]\n",
    "for item in int_list:\n",
    "    print(item)"
   ]
  },
  {
   "cell_type": "code",
   "execution_count": 49,
   "id": "2283a9e2",
   "metadata": {},
   "outputs": [
    {
     "name": "stdout",
     "output_type": "stream",
     "text": [
      " num is 365\n",
      "365\n",
      "Completion of program!\n"
     ]
    }
   ],
   "source": [
    "# muiltipe condition in if loop - and , or\n",
    "num = int(input('Enter a number'))\n",
    "print(' num is {}'.format(num))\n",
    "if (num > 100 and num < 400):\n",
    "    print(num)\n",
    "print('Completion of program!')"
   ]
  },
  {
   "cell_type": "code",
   "execution_count": null,
   "id": "35d41f3e",
   "metadata": {},
   "outputs": [],
   "source": []
  },
  {
   "cell_type": "code",
   "execution_count": null,
   "id": "a880e126",
   "metadata": {},
   "outputs": [],
   "source": []
  }
 ],
 "metadata": {
  "kernelspec": {
   "display_name": "Python 3 (ipykernel)",
   "language": "python",
   "name": "python3"
  },
  "language_info": {
   "codemirror_mode": {
    "name": "ipython",
    "version": 3
   },
   "file_extension": ".py",
   "mimetype": "text/x-python",
   "name": "python",
   "nbconvert_exporter": "python",
   "pygments_lexer": "ipython3",
   "version": "3.7.13"
  }
 },
 "nbformat": 4,
 "nbformat_minor": 5
}
