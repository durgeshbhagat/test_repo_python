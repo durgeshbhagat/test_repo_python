{
 "cells": [
  {
   "cell_type": "markdown",
   "id": "d73d7601",
   "metadata": {},
   "source": [
    "# Errors and Exception"
   ]
  },
  {
   "cell_type": "markdown",
   "id": "ededbb46",
   "metadata": {},
   "source": [
    "- Handling Errors and Exceptions are **common* to the `programmers` and `software developer`.\n",
    "- In python Errors can be categorized into three categories:\n",
    "    1. `Syntax Errors` - code is not valid. (easy to fix)\n",
    "    2. `Runtime Errors` - synaticatically valid code fails to execute, usually due to invalid usr input, or exhaustation of resources.\n",
    "    3. `Semantic Errors` - error in logi, code executes succesfully but output is not as expected.\n",
    "    \n",
    "**Note** - Examples are taken from A Whirlwind tour of python by - **Jake VanderPlas**"
   ]
  },
  {
   "cell_type": "markdown",
   "id": "7d2992fe",
   "metadata": {},
   "source": [
    "## Runtime Errors\n",
    "Common examples:\n",
    "- varaibles or names not defined\n",
    "- unsupported operand type(s) for +: `int` and`str`\n",
    "- ZeroDivisionError\n",
    "- IndexError"
   ]
  },
  {
   "cell_type": "code",
   "execution_count": null,
   "id": "c723594e",
   "metadata": {},
   "outputs": [],
   "source": [
    "print(t)"
   ]
  },
  {
   "cell_type": "code",
   "execution_count": null,
   "id": "d5ebd772",
   "metadata": {},
   "outputs": [],
   "source": [
    "1 + 'abc'"
   ]
  },
  {
   "cell_type": "code",
   "execution_count": null,
   "id": "27452e53",
   "metadata": {},
   "outputs": [],
   "source": [
    "2/0"
   ]
  },
  {
   "cell_type": "code",
   "execution_count": null,
   "id": "e1dc8adb",
   "metadata": {},
   "outputs": [],
   "source": [
    "L = [1, 2, 3]\n",
    "L[1000]"
   ]
  },
  {
   "cell_type": "markdown",
   "id": "f18ba61b",
   "metadata": {},
   "source": [
    "### Catching Exceptions: try and except\n",
    "- main tool for handling runtime exception - `try` ... `except` clause "
   ]
  },
  {
   "cell_type": "code",
   "execution_count": null,
   "id": "d43a32d2",
   "metadata": {},
   "outputs": [],
   "source": [
    "# Syntax of try - except\n",
    "try:\n",
    "    print('this gets executed first')\n",
    "except:\n",
    "    print('this gets executed only if there is an error')\n"
   ]
  },
  {
   "cell_type": "code",
   "execution_count": null,
   "id": "08631a57",
   "metadata": {},
   "outputs": [],
   "source": [
    "try:\n",
    "    print('let us try something')\n",
    "    x = 1/0 # ZeroDivisionError\n",
    "except:\n",
    "    print('Something bad happened')\n"
   ]
  },
  {
   "cell_type": "code",
   "execution_count": null,
   "id": "6a038a96",
   "metadata": {},
   "outputs": [],
   "source": [
    "# function that catches zero-division error\n",
    "def safe_divide(a, b):\n",
    "     try:\n",
    "         return a / b\n",
    "     except:\n",
    "         return 1E100"
   ]
  },
  {
   "cell_type": "code",
   "execution_count": null,
   "id": "1bd67249",
   "metadata": {},
   "outputs": [],
   "source": [
    "safe_divide(1, 2)"
   ]
  },
  {
   "cell_type": "code",
   "execution_count": null,
   "id": "5ebcb15e",
   "metadata": {},
   "outputs": [],
   "source": [
    "safe_divide(2, 0)"
   ]
  },
  {
   "cell_type": "markdown",
   "id": "8067de89",
   "metadata": {},
   "source": [
    "#### subtle problem -  what happens\n",
    "when another type of exception comes up? like below:"
   ]
  },
  {
   "cell_type": "code",
   "execution_count": null,
   "id": "25792a81",
   "metadata": {},
   "outputs": [],
   "source": [
    "safe_divide (1, '2')"
   ]
  },
  {
   "cell_type": "code",
   "execution_count": null,
   "id": "6d92c20b",
   "metadata": {},
   "outputs": [],
   "source": [
    "def safe_divide(a, b):\n",
    " try:\n",
    "     return a / b\n",
    " except ZeroDivisionError:\n",
    "     return 1E100"
   ]
  },
  {
   "cell_type": "code",
   "execution_count": null,
   "id": "dd530356",
   "metadata": {},
   "outputs": [],
   "source": [
    "safe_divide(1, 0)"
   ]
  },
  {
   "cell_type": "code",
   "execution_count": null,
   "id": "808fb461",
   "metadata": {},
   "outputs": [],
   "source": [
    "safe_divide(1, '2')"
   ]
  },
  {
   "cell_type": "markdown",
   "id": "f2021ba7",
   "metadata": {},
   "source": [
    "### raising an exception\n",
    "- sometime programmers or application need toraise an informative exception."
   ]
  },
  {
   "cell_type": "code",
   "execution_count": null,
   "id": "ef1efa5b",
   "metadata": {},
   "outputs": [],
   "source": [
    "raise RuntimeError(\"my error message\")"
   ]
  },
  {
   "cell_type": "code",
   "execution_count": null,
   "id": "13ad61c1",
   "metadata": {},
   "outputs": [],
   "source": [
    "# takes an input N and print first N number of fibonacci series\n",
    "def fibonacci(N):\n",
    "     L = []\n",
    "     a, b = 0, 1\n",
    "     while len(L) < N:\n",
    "         a, b = b, a + b\n",
    "         L.append(a)\n",
    "     return L"
   ]
  },
  {
   "cell_type": "code",
   "execution_count": null,
   "id": "55a04c36",
   "metadata": {},
   "outputs": [],
   "source": [
    "n = int(input(' Enter the value of n:')) # 2, 5, 10, 15\n",
    "fibonacci(n)"
   ]
  },
  {
   "cell_type": "code",
   "execution_count": null,
   "id": "33e35427",
   "metadata": {},
   "outputs": [],
   "source": [
    "fibonacci(-10)"
   ]
  },
  {
   "cell_type": "code",
   "execution_count": null,
   "id": "a7c7e514",
   "metadata": {},
   "outputs": [],
   "source": [
    "# raise value erro on negative value\n",
    "def fibonacci(N):\n",
    "     if N < 0:\n",
    "         raise ValueError(\"N must be non-negative\")\n",
    "     L = []\n",
    "     a, b = 0, 1\n",
    "     while len(L) < N:\n",
    "         a, b = b, a + b\n",
    "         L.append(a)\n",
    "     return L"
   ]
  },
  {
   "cell_type": "code",
   "execution_count": null,
   "id": "af622350",
   "metadata": {},
   "outputs": [],
   "source": [
    "fibonacci(-10)"
   ]
  },
  {
   "cell_type": "markdown",
   "id": "347f0041",
   "metadata": {},
   "source": [
    "## Diving Deeper into Exceptions\n",
    "- to know details about the error messages"
   ]
  },
  {
   "cell_type": "code",
   "execution_count": null,
   "id": "1dfbc7b3",
   "metadata": {},
   "outputs": [],
   "source": [
    "try:\n",
    "    x = 1 / 0\n",
    "except ZeroDivisionError as err:\n",
    "    print(\"Error class is: \", type(err))\n",
    "    print(\"Error message is:\", err)"
   ]
  },
  {
   "cell_type": "markdown",
   "id": "b664532b",
   "metadata": {},
   "source": [
    "### Defining custom exceptions"
   ]
  },
  {
   "cell_type": "code",
   "execution_count": null,
   "id": "07494d66",
   "metadata": {},
   "outputs": [],
   "source": [
    " class MySpecialError(ValueError):\n",
    "     pass\n",
    " raise MySpecialError(\"here's the message\")"
   ]
  },
  {
   "cell_type": "code",
   "execution_count": null,
   "id": "1fd31a70",
   "metadata": {},
   "outputs": [],
   "source": [
    "try:\n",
    "    print(\"do something\")\n",
    "    raise MySpecialError(\"[informative error message here]\")\n",
    "except MySpecialError:\n",
    "    print(\"do something else\")"
   ]
  },
  {
   "cell_type": "markdown",
   "id": "ffa58cb8",
   "metadata": {},
   "source": [
    "### try ... except ... else ... finally\n",
    "-  can use the else and finally keywords to further tune your code’s handling of exceptions"
   ]
  },
  {
   "cell_type": "code",
   "execution_count": null,
   "id": "aaf68c0f",
   "metadata": {},
   "outputs": [],
   "source": [
    " try:\n",
    "     print(\"try something here\")\n",
    " except:\n",
    "     print(\"this happens only if it fails\")\n",
    " else:\n",
    "     print(\"this happens only if it succeeds\")\n",
    " finally:\n",
    "     print(\"this happens no matter what\")\n"
   ]
  }
 ],
 "metadata": {
  "kernelspec": {
   "display_name": "Python 3 (ipykernel)",
   "language": "python",
   "name": "python3"
  },
  "language_info": {
   "codemirror_mode": {
    "name": "ipython",
    "version": 3
   },
   "file_extension": ".py",
   "mimetype": "text/x-python",
   "name": "python",
   "nbconvert_exporter": "python",
   "pygments_lexer": "ipython3",
   "version": "3.7.13"
  }
 },
 "nbformat": 4,
 "nbformat_minor": 5
}
